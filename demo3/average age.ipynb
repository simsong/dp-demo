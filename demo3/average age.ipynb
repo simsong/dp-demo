{
 "cells": [
  {
   "cell_type": "code",
   "execution_count": 101,
   "metadata": {},
   "outputs": [],
   "source": [
    "import numpy as np\n",
    "import matplotlib as mp\n",
    "import matplotlib.pylab as pylab\n",
    "import matplotlib.pyplot as plot\n",
    "import sys\n",
    "sys.path.append(\"/Users/simsong/gits/stats_2010\")\n",
    "import ctools.tydoc as tydoc\n",
    "from tydoc import tytable\n",
    "\n",
    "MAX_AGE = 110"
   ]
  },
  {
   "cell_type": "code",
   "execution_count": null,
   "metadata": {},
   "outputs": [],
   "source": []
  },
  {
   "cell_type": "code",
   "execution_count": 102,
   "metadata": {},
   "outputs": [
    {
     "name": "stdout",
     "output_type": "stream",
     "text": [
      "Epsilon: 2.0\n",
      "Num people: 100 all of age: 22\n",
      "count of people: 95.0%: 85.67 → 114.33  (median: 100.00 range: 28.67)\n",
      "count of people: 99.0%: 82.42 → 120.46  (median: 101.44 range: 38.04)\n",
      "average ages 95.0%: 19.27 → 25.71  (median: 22.49 range: 6.44)\n",
      "average ages 99.0%: 18.39 → 27.31  (median: 22.85 range: 8.93)\n",
      "\n"
     ]
    },
    {
     "data": {
      "text/plain": [
       "{'epsilon': 2.0,\n",
       " 'n': 100,\n",
       " 'age': 22,\n",
       " 'trials': 1000,\n",
       " 'private_avgage-.95': (19.269152487581685, 25.71184211636944),\n",
       " 'private_counts-.95': (85.66565430404654, 114.3336720553227),\n",
       " 'private_avgage-.25': (21.495347522609094, 22.563093727685363),\n",
       " 'private_counts-.25': (97.50600339417579, 102.35318191352135)}"
      ]
     },
     "execution_count": 102,
     "metadata": {},
     "output_type": "execute_result"
    }
   ],
   "source": [
    "def get_range(frac, vals):\n",
    "    ct = len(vals)\n",
    "    vals = list(sorted(vals))\n",
    "    delta = (1-frac)/2\n",
    "    v1 = vals[int( ct * delta ) ]\n",
    "    v2 = vals[int( ct * (1-delta))]\n",
    "    return (v1,v2)\n",
    "\n",
    "def print_stats(desc,vals):\n",
    "    ct = len(vals)\n",
    "    vals = list(sorted(vals))\n",
    "    for frac in [.95, .99]:\n",
    "        (v1,v2) = get_ranges(frac, vals)\n",
    "        print(f\"{desc} {frac*100}%: {v1:.02f} → {v2:.02f}  \"\n",
    "              f\"(median: {(v2+v1)/2:.02f} range: {v2-v1:.02f})\")\n",
    "\n",
    "def print_experiment_stats(epsilon,n,avg,counts,ages):\n",
    "    print(f\"Epsilon: {epsilon}\")\n",
    "    print(f\"Num people: {n} all of age: {avg}\")\n",
    "    print_stats(\"count of people:\", counts)\n",
    "    print_stats(\"average ages\", ages)\n",
    "    print(\"\")\n",
    "\n",
    "    \n",
    "def naive_stats(epsilon, n, age):\n",
    "    # Differentially private count and average where people all have the same value\n",
    "    n_sensitivity = 1 \n",
    "    n_noise    = np.random.laplace(scale=([n_sensitivity/(epsilon*.5)]))\n",
    "    private_n = n + n_noise\n",
    "    age_sensitivity = 110 \n",
    "    age_noise = np.random.laplace(scale=([age_sensitivity/(epsilon*.5)]))\n",
    "    private_sum_ages = (age*n) + age_noise\n",
    "    private_average_age = private_sum_ages / private_n\n",
    "    return {'num_private':private_n,'average_age':average_age}\n",
    "\n",
    "    \n",
    "def dp_age_histogram(epsilon, npeople, age, verbose=False):\n",
    "    # Given a value of epsilon, and a count of people all the same age\n",
    "    # create a histogram and then calc average age and the like\n",
    "    bins = np.array([0]*(MAX_AGE+1))\n",
    "    bins[age] = npeople\n",
    "    noises   = np.random.laplace(scale=([1/epsilon] * (MAX_AGE+1)))\n",
    "    private_bins = bins + noises\n",
    "    num_private = sum(private_bins)\n",
    "    total_age = sum([(n * count) for (n,count) in enumerate(bins)]) \n",
    "    average_age = total_age / num_private\n",
    "    if verbose:\n",
    "        print(f\"Epsilon: {epsilon}\")\n",
    "        print(f\"Num people: {npeople} age: {age}\")\n",
    "        print(f\"Real histogram: {bins}\")\n",
    "        print(f\"Noises: {noises}\")\n",
    "        print(f\"Private histogram: {private_bins}\")\n",
    "        print(f\"private[{age}] = {private_bins[age]}\")\n",
    "        print(f\"Num private people: {num_private}\")\n",
    "        print(f\"Average age: {average_age}\")\n",
    "        print(\"\")\n",
    "    return {'num_private':num_private,'average_age':average_age}\n",
    "\n",
    "def run_histogram_experiment(epsilon,n,age,trials, verbose=False):\n",
    "    results        = [dp_age_histogram(epsilon,n,age, verbose=verbose) for i in range(trials)]\n",
    "    private_counts = [result['num_private'] for result in results]\n",
    "    private_average_ages = [result['average_age'] for result in results]\n",
    "    print_experiment_stats(epsilon, n, age, private_counts, private_average_ages)\n",
    "    return {'epsilon':epsilon,\n",
    "            'n':n,\n",
    "            'age':age,\n",
    "            'trials':trials,\n",
    "            'private_avgage-.95'   : get_range(.95, private_average_ages),\n",
    "            'private_counts-.95'   : get_range(.95, private_counts),\n",
    "            'private_avgage-.25'   : get_range(.25, private_average_ages),\n",
    "            'private_counts-.25'   : get_range(.25, private_counts)}\n",
    "\n",
    "run_histogram_experiment(2.0, 100, 22, trials=1000, verbose=False)"
   ]
  },
  {
   "cell_type": "code",
   "execution_count": null,
   "metadata": {},
   "outputs": [],
   "source": []
  },
  {
   "cell_type": "code",
   "execution_count": null,
   "metadata": {},
   "outputs": [],
   "source": []
  },
  {
   "cell_type": "code",
   "execution_count": 114,
   "metadata": {},
   "outputs": [
    {
     "name": "stdout",
     "output_type": "stream",
     "text": [
      "Epsilon: 20.0\n",
      "Num people: 1 all of age: 22\n",
      "count of people: 95.0%: -0.46 → 2.47  (median: 1.00 range: 2.93)\n",
      "count of people: 99.0%: -0.93 → 2.93  (median: 1.00 range: 3.86)\n",
      "average ages 95.0%: -168.63 → 215.53  (median: 23.45 range: 384.16)\n",
      "average ages 99.0%: -927.62 → 940.20  (median: 6.29 range: 1867.82)\n",
      "\n",
      "Epsilon: 20.0\n",
      "Num people: 10 all of age: 22\n",
      "count of people: 95.0%: 8.55 → 11.46  (median: 10.00 range: 2.91)\n",
      "count of people: 99.0%: 8.07 → 11.93  (median: 10.00 range: 3.86)\n",
      "average ages 95.0%: 19.20 → 25.74  (median: 22.47 range: 6.54)\n",
      "average ages 99.0%: 18.44 → 27.25  (median: 22.84 range: 8.81)\n",
      "\n",
      "Epsilon: 20.0\n",
      "Num people: 100 all of age: 22\n",
      "count of people: 95.0%: 98.54 → 101.46  (median: 100.00 range: 2.92)\n",
      "count of people: 99.0%: 98.06 → 101.91  (median: 99.99 range: 3.85)\n",
      "average ages 95.0%: 21.68 → 22.33  (median: 22.01 range: 0.64)\n",
      "average ages 99.0%: 21.59 → 22.44  (median: 22.01 range: 0.85)\n",
      "\n",
      "Epsilon: 20.0\n",
      "Num people: 1000 all of age: 22\n",
      "count of people: 95.0%: 998.54 → 1001.46  (median: 1000.00 range: 2.92)\n",
      "count of people: 99.0%: 998.06 → 1001.94  (median: 1000.00 range: 3.88)\n",
      "average ages 95.0%: 21.97 → 22.03  (median: 22.00 range: 0.06)\n",
      "average ages 99.0%: 21.96 → 22.04  (median: 22.00 range: 0.09)\n",
      "\n",
      "Epsilon: 20.0\n",
      "Num people: 10000 all of age: 22\n",
      "count of people: 95.0%: 9998.55 → 10001.46  (median: 10000.01 range: 2.92)\n",
      "count of people: 99.0%: 9998.08 → 10001.92  (median: 10000.00 range: 3.84)\n",
      "average ages 95.0%: 22.00 → 22.00  (median: 22.00 range: 0.01)\n",
      "average ages 99.0%: 22.00 → 22.00  (median: 22.00 range: 0.01)\n",
      "\n",
      "labels: ['1', '10', '100', '1000', '10000']\n"
     ]
    },
    {
     "data": {
      "text/plain": [
       "(-10, 100)"
      ]
     },
     "execution_count": 114,
     "metadata": {},
     "output_type": "execute_result"
    },
    {
     "data": {
      "image/png": "[encoded data removed]",
      "text/plain": [
       "<Figure size 432x288 with 1 Axes>"
      ]
     },
     "metadata": {
      "needs_background": "light"
     },
     "output_type": "display_data"
    }
   ],
   "source": [
    "labels   = []\n",
    "ages25 = []\n",
    "ages75 = []\n",
    "age = 22\n",
    "epsilon = 20.0\n",
    "for n in [1, 10, 100, 1000, 10000]:\n",
    "    obj = run_histogram_experiment(epsilon, n, age, trials=100000, verbose=False)\n",
    "    labels.append(str(n))\n",
    "    ages25.append(obj['private_avgage-.25'][0])\n",
    "    ages75.append(obj['private_avgage-.25'][1])\n",
    "\n",
    "print(\"labels:\",labels)\n",
    "ax = plt.subplot(111)\n",
    "ax.bar(x=labels,bottom=ages25, height=ages75, color='green', alpha=0.5)\n",
    "ax.set_ylim(bottom=-10,top=100)\n",
    "    "
   ]
  },
  {
   "cell_type": "code",
   "execution_count": null,
   "metadata": {},
   "outputs": [],
   "source": []
  },
  {
   "cell_type": "code",
   "execution_count": null,
   "metadata": {},
   "outputs": [],
   "source": []
  },
  {
   "cell_type": "code",
   "execution_count": null,
   "metadata": {},
   "outputs": [],
   "source": []
  },
  {
   "cell_type": "code",
   "execution_count": null,
   "metadata": {},
   "outputs": [],
   "source": []
  },
  {
   "cell_type": "code",
   "execution_count": null,
   "metadata": {},
   "outputs": [],
   "source": []
  },
  {
   "cell_type": "code",
   "execution_count": null,
   "metadata": {},
   "outputs": [],
   "source": []
  },
  {
   "cell_type": "code",
   "execution_count": null,
   "metadata": {},
   "outputs": [],
   "source": []
  },
  {
   "cell_type": "code",
   "execution_count": null,
   "metadata": {},
   "outputs": [],
   "source": []
  },
  {
   "cell_type": "code",
   "execution_count": null,
   "metadata": {},
   "outputs": [],
   "source": []
  },
  {
   "cell_type": "code",
   "execution_count": null,
   "metadata": {},
   "outputs": [],
   "source": []
  },
  {
   "cell_type": "code",
   "execution_count": null,
   "metadata": {},
   "outputs": [],
   "source": []
  },
  {
   "cell_type": "code",
   "execution_count": null,
   "metadata": {},
   "outputs": [],
   "source": []
  },
  {
   "cell_type": "code",
   "execution_count": null,
   "metadata": {},
   "outputs": [],
   "source": []
  },
  {
   "cell_type": "code",
   "execution_count": 73,
   "metadata": {},
   "outputs": [
    {
     "name": "stdout",
     "output_type": "stream",
     "text": [
      "Help on function bar in module matplotlib.pyplot:\n",
      "\n",
      "bar(x, height, width=0.8, bottom=None, *, align='center', data=None, **kwargs)\n",
      "    Make a bar plot.\n",
      "    \n",
      "    The bars are positioned at *x* with the given *align*\\ment. Their\n",
      "    dimensions are given by *width* and *height*. The vertical baseline\n",
      "    is *bottom* (default 0).\n",
      "    \n",
      "    Each of *x*, *height*, *width*, and *bottom* may either be a scalar\n",
      "    applying to all bars, or it may be a sequence of length N providing a\n",
      "    separate value for each bar.\n",
      "    \n",
      "    Parameters\n",
      "    ----------\n",
      "    x : sequence of scalars\n",
      "        The x coordinates of the bars. See also *align* for the\n",
      "        alignment of the bars to the coordinates.\n",
      "    \n",
      "    height : scalar or sequence of scalars\n",
      "        The height(s) of the bars.\n",
      "    \n",
      "    width : scalar or array-like, optional\n",
      "        The width(s) of the bars (default: 0.8).\n",
      "    \n",
      "    bottom : scalar or array-like, optional\n",
      "        The y coordinate(s) of the bars bases (default: 0).\n",
      "    \n",
      "    align : {'center', 'edge'}, optional, default: 'center'\n",
      "        Alignment of the bars to the *x* coordinates:\n",
      "    \n",
      "        - 'center': Center the base on the *x* positions.\n",
      "        - 'edge': Align the left edges of the bars with the *x* positions.\n",
      "    \n",
      "        To align the bars on the right edge pass a negative *width* and\n",
      "        ``align='edge'``.\n",
      "    \n",
      "    Returns\n",
      "    -------\n",
      "    container : `.BarContainer`\n",
      "        Container with all the bars and optionally errorbars.\n",
      "    \n",
      "    Other Parameters\n",
      "    ----------------\n",
      "    color : scalar or array-like, optional\n",
      "        The colors of the bar faces.\n",
      "    \n",
      "    edgecolor : scalar or array-like, optional\n",
      "        The colors of the bar edges.\n",
      "    \n",
      "    linewidth : scalar or array-like, optional\n",
      "        Width of the bar edge(s). If 0, don't draw edges.\n",
      "    \n",
      "    tick_label : string or array-like, optional\n",
      "        The tick labels of the bars.\n",
      "        Default: None (Use default numeric labels.)\n",
      "    \n",
      "    xerr, yerr : scalar or array-like of shape(N,) or shape(2,N), optional\n",
      "        If not *None*, add horizontal / vertical errorbars to the bar tips.\n",
      "        The values are +/- sizes relative to the data:\n",
      "    \n",
      "        - scalar: symmetric +/- values for all bars\n",
      "        - shape(N,): symmetric +/- values for each bar\n",
      "        - shape(2,N): Separate - and + values for each bar. First row\n",
      "            contains the lower errors, the second row contains the\n",
      "            upper errors.\n",
      "        - *None*: No errorbar. (Default)\n",
      "    \n",
      "        See :doc:`/gallery/statistics/errorbar_features`\n",
      "        for an example on the usage of ``xerr`` and ``yerr``.\n",
      "    \n",
      "    ecolor : scalar or array-like, optional, default: 'black'\n",
      "        The line color of the errorbars.\n",
      "    \n",
      "    capsize : scalar, optional\n",
      "       The length of the error bar caps in points.\n",
      "       Default: None, which will take the value from\n",
      "       :rc:`errorbar.capsize`.\n",
      "    \n",
      "    error_kw : dict, optional\n",
      "        Dictionary of kwargs to be passed to the `~.Axes.errorbar`\n",
      "        method. Values of *ecolor* or *capsize* defined here take\n",
      "        precedence over the independent kwargs.\n",
      "    \n",
      "    log : bool, optional, default: False\n",
      "        If *True*, set the y-axis to be log scale.\n",
      "    \n",
      "    orientation : {'vertical',  'horizontal'}, optional\n",
      "        *This is for internal use only.* Please use `barh` for\n",
      "        horizontal bar plots. Default: 'vertical'.\n",
      "    \n",
      "    See also\n",
      "    --------\n",
      "    barh: Plot a horizontal bar plot.\n",
      "    \n",
      "    Notes\n",
      "    -----\n",
      "    The optional arguments *color*, *edgecolor*, *linewidth*,\n",
      "    *xerr*, and *yerr* can be either scalars or sequences of\n",
      "    length equal to the number of bars.  This enables you to use\n",
      "    bar as the basis for stacked bar charts, or candlestick plots.\n",
      "    Detail: *xerr* and *yerr* are passed directly to\n",
      "    :meth:`errorbar`, so they can also have shape 2xN for\n",
      "    independent specification of lower and upper errors.\n",
      "    \n",
      "    Other optional kwargs:\n",
      "    \n",
      "      agg_filter: a filter function, which takes a (m, n, 3) float array and a dpi value, and returns a (m, n, 3) array \n",
      "      alpha: float or None\n",
      "      animated: bool\n",
      "      antialiased: unknown\n",
      "      capstyle: {'butt', 'round', 'projecting'}\n",
      "      clip_box: `.Bbox`\n",
      "      clip_on: bool\n",
      "      clip_path: [(`~matplotlib.path.Path`, `.Transform`) | `.Patch` | None] \n",
      "      color: color\n",
      "      contains: callable\n",
      "      edgecolor: color or None or 'auto'\n",
      "      facecolor: color or None\n",
      "      figure: `.Figure`\n",
      "      fill: bool\n",
      "      gid: str\n",
      "      hatch: {'/', '\\\\', '|', '-', '+', 'x', 'o', 'O', '.', '*'}\n",
      "      in_layout: bool\n",
      "      joinstyle: {'miter', 'round', 'bevel'}\n",
      "      label: object\n",
      "      linestyle: {'-', '--', '-.', ':', '', (offset, on-off-seq), ...}\n",
      "      linewidth: float or None for default \n",
      "      path_effects: `.AbstractPathEffect`\n",
      "      picker: None or bool or float or callable\n",
      "      rasterized: bool or None\n",
      "      sketch_params: (scale: float, length: float, randomness: float) \n",
      "      snap: bool or None\n",
      "      transform: `.Transform`\n",
      "      url: str\n",
      "      visible: bool\n",
      "      zorder: float\n",
      "    \n",
      "    .. note::\n",
      "        In addition to the above described arguments, this function can take a\n",
      "        **data** keyword argument. If such a **data** argument is given, the\n",
      "        following arguments are replaced by **data[<arg>]**:\n",
      "    \n",
      "        * All arguments with the following names: 'bottom', 'color', 'ecolor', 'edgecolor', 'height', 'left', 'linewidth', 'tick_label', 'width', 'x', 'xerr', 'y', 'yerr'.\n",
      "        * All positional arguments.\n",
      "    \n",
      "        Objects passed as **data** must support item access (``data[<arg>]``) and\n",
      "        membership test (``<arg> in data``).\n",
      "\n"
     ]
    }
   ],
   "source": [
    "help(pylab.bar)"
   ]
  },
  {
   "cell_type": "code",
   "execution_count": 52,
   "metadata": {},
   "outputs": [
    {
     "name": "stdout",
     "output_type": "stream",
     "text": [
      "Epsilon: 100\n",
      "Num people: 1 all of age: 22\n",
      "count of people: 95.0%: 0.71 → 1.30  (0.58)\n",
      "count of people: 99.0%: 0.62 → 1.40  (0.78)\n",
      "average ages 95.0%: 16.98 → 30.88  (13.90)\n",
      "average ages 99.0%: 15.74 → 35.75  (20.00)\n",
      "\n",
      "=========================\n",
      "Epsilon: 100\n",
      "Num people: 10 all of age: 22\n",
      "count of people: 95.0%: 9.70 → 10.29  (0.59)\n",
      "count of people: 99.0%: 9.60 → 10.39  (0.78)\n",
      "average ages 95.0%: 21.38 → 22.67  (1.29)\n",
      "average ages 99.0%: 21.18 → 22.92  (1.73)\n",
      "\n",
      "=========================\n",
      "Epsilon: 100\n",
      "Num people: 100 all of age: 22\n",
      "count of people: 95.0%: 99.70 → 100.29  (0.59)\n",
      "count of people: 99.0%: 99.60 → 100.38  (0.78)\n",
      "average ages 95.0%: 21.94 → 22.07  (0.13)\n",
      "average ages 99.0%: 21.92 → 22.09  (0.17)\n",
      "\n",
      "=========================\n"
     ]
    }
   ],
   "source": [
    "for epsilon in [100]:\n",
    "    for n in [1, 10, 100]:\n",
    "        #run_naive_experiment(epsilon, n, 22, 1000)\n",
    "        run_histogram_experiment(epsilon, n, 22, 10000)\n",
    "        print(\"=========================\")"
   ]
  },
  {
   "cell_type": "code",
   "execution_count": null,
   "metadata": {},
   "outputs": [],
   "source": [
    "pylab.bar(['dogs','cats','ticks'],[1,2,3])"
   ]
  },
  {
   "cell_type": "code",
   "execution_count": null,
   "metadata": {},
   "outputs": [],
   "source": [
    "from IPython.core.display import HTML\n",
    "display(HTML(\"<b>bold</b>\"))"
   ]
  },
  {
   "cell_type": "code",
   "execution_count": null,
   "metadata": {},
   "outputs": [],
   "source": [
    "import tydoc,io"
   ]
  },
  {
   "cell_type": "code",
   "execution_count": null,
   "metadata": {},
   "outputs": [],
   "source": [
    "a = tydoc.tytable()\n",
    "a.add_head(['one','two'])\n",
    "a.add_data([1,2])\n",
    "i = io.StringIO()\n",
    "a.render(i,format='html')\n",
    "i.seek(0)\n",
    "display(HTML(i.read()))"
   ]
  }
 ],
 "metadata": {
  "kernelspec": {
   "display_name": "Python 3",
   "language": "python",
   "name": "python3"
  },
  "language_info": {
   "codemirror_mode": {
    "name": "ipython",
    "version": 3
   },
   "file_extension": ".py",
   "mimetype": "text/x-python",
   "name": "python",
   "nbconvert_exporter": "python",
   "pygments_lexer": "ipython3",
   "version": "3.7.1"
  }
 },
 "nbformat": 4,
 "nbformat_minor": 2
}
