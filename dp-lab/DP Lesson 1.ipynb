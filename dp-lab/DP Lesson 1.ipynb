{
 "cells": [
  {
   "cell_type": "markdown",
   "metadata": {},
   "source": [
    "# Differential Privacy Jupyter Lab Lesson 1\n",
    "Welcome to the Differential Privacy Jupyter Lab Lesson #1. \n",
    "\n",
    "In this lab, we'll see how the Laplace and the Geometric mechanism can be used in private data analysis."
   ]
  },
  {
   "cell_type": "code",
   "execution_count": 1,
   "metadata": {},
   "outputs": [],
   "source": [
    "import numpy\n",
    "import numpy.random\n",
    "\n",
    "# TODO: The differential privacy laplace mechanism uses the laplace distribtion\n",
    "# The original paper used the laplace mechanism because it made the math easier.\n",
    "# Graph the gaussian & the laplace distribution.\n",
    "\n",
    "# TODO: Redo this so that we just have a single run\n",
    "# Then build it to multiple runs.\n",
    "\n",
    "\n",
    "def dp_laplace(*,private_x, sensitivity, epsilon):\n",
    "    \"\"\"This versin of the \"\"\"\n",
    "    return numpy.random.laplace(private_x, 1.0/epsilon )\n"
   ]
  },
  {
   "cell_type": "code",
   "execution_count": 2,
   "metadata": {},
   "outputs": [
    {
     "data": {
      "text/plain": [
       "99.78990855774366"
      ]
     },
     "execution_count": 2,
     "metadata": {},
     "output_type": "execute_result"
    }
   ],
   "source": [
    "\"\"\"\n",
    "Let's assume a hypothetical survey in which there are 100 people who respond.\n",
    "We want to protect with differential privacy the number of respondents.\n",
    "The sensitivity is 1 because a person being added or removed will change that\n",
    "number by 1.  Here is such a computation, with an epsilon of 2.0:\n",
    "\"\"\"\n",
    "dp_laplace(private_x=100, sensitivity=1, epsilon=2.0)"
   ]
  },
  {
   "cell_type": "code",
   "execution_count": null,
   "metadata": {},
   "outputs": [],
   "source": []
  },
  {
   "cell_type": "code",
   "execution_count": 3,
   "metadata": {},
   "outputs": [
    {
     "data": {
      "text/plain": [
       "100.01284546494115"
      ]
     },
     "metadata": {},
     "output_type": "display_data"
    },
    {
     "data": {
      "text/plain": [
       "99.694837662643"
      ]
     },
     "metadata": {},
     "output_type": "display_data"
    },
    {
     "data": {
      "text/plain": [
       "102.22375374526727"
      ]
     },
     "metadata": {},
     "output_type": "display_data"
    },
    {
     "data": {
      "text/plain": [
       "100.04583801374753"
      ]
     },
     "metadata": {},
     "output_type": "display_data"
    },
    {
     "data": {
      "text/plain": [
       "99.71922741912032"
      ]
     },
     "metadata": {},
     "output_type": "display_data"
    },
    {
     "data": {
      "text/plain": [
       "100.07810186038466"
      ]
     },
     "metadata": {},
     "output_type": "display_data"
    },
    {
     "data": {
      "text/plain": [
       "99.77171050015554"
      ]
     },
     "metadata": {},
     "output_type": "display_data"
    },
    {
     "data": {
      "text/plain": [
       "100.59777189754632"
      ]
     },
     "metadata": {},
     "output_type": "display_data"
    },
    {
     "data": {
      "text/plain": [
       "99.88483535889821"
      ]
     },
     "metadata": {},
     "output_type": "display_data"
    },
    {
     "data": {
      "text/plain": [
       "99.60947660891654"
      ]
     },
     "metadata": {},
     "output_type": "display_data"
    }
   ],
   "source": [
    "\"\"\"\n",
    "Now we will run this experiment 10 times, to show the range of the protection values:\n",
    "\"\"\"\n",
    "runs=10\n",
    "for i in range(runs):\n",
    "    display(dp_laplace(private_x=100, sensitivity=1, epsilon=2.0))\n",
    "\n",
    "\n"
   ]
  },
  {
   "cell_type": "code",
   "execution_count": 3,
   "metadata": {},
   "outputs": [
    {
     "data": {
      "text/plain": [
       "array([100.35729877, 100.55875696,  99.67556729, 100.57051232,\n",
       "       100.65316795, 101.46853687, 100.51663244, 101.01694994,\n",
       "        99.95664489, 100.5017077 ])"
      ]
     },
     "metadata": {},
     "output_type": "display_data"
    }
   ],
   "source": [
    "\"\"\"\n",
    "Because our dp_lapace mechanism is built with numpy.random.laplace,\n",
    "we can repeat that experiment with a single operation.\n",
    "\n",
    "REMEMBER -- this is just for demonstration purposes. If we were *actually*\n",
    "using differential privacy, we would just run it once.\n",
    "\n",
    "We can get integer counts by rounding afterwards, or by using a different\n",
    "mechanism (the geometeric mechanism gives integers.)\n",
    "\"\"\"\n",
    "private_data = [100,100,100,100,100,100,100,100,100,100]\n",
    "display( dp_laplace(private_x = private_data, sensitivity=1.0, epsilon=2.0) )"
   ]
  },
  {
   "cell_type": "code",
   "execution_count": 5,
   "metadata": {},
   "outputs": [
    {
     "data": {
      "text/html": [
       "<TABLE TEXT_FORMAT=\"{}\" FLOAT_FORMAT=\"{:.4f}\" INTEGER_FORMAT=\"{:,}\">\n",
       "<CAPTION/>\n",
       "<THEAD>\n",
       "<TR><TH v=\"epsilon 2.0\" t=\"str\">epsilon 2.0</TH></TR>\n",
       "</THEAD>\n",
       "<TBODY>\n",
       "<TR><TD v=\"100.49740666892741\" t=\"float64\">100.4974</TD></TR>\n",
       "<TR><TD v=\"99.93538570348097\" t=\"float64\">99.9354</TD></TR>\n",
       "<TR><TD v=\"100.36020444842934\" t=\"float64\">100.3602</TD></TR>\n",
       "<TR><TD v=\"100.04298899625275\" t=\"float64\">100.0430</TD></TR>\n",
       "<TR><TD v=\"100.19668221777037\" t=\"float64\">100.1967</TD></TR>\n",
       "<TR><TD v=\"99.895389952554\" t=\"float64\">99.8954</TD></TR>\n",
       "<TR><TD v=\"100.40978992712834\" t=\"float64\">100.4098</TD></TR>\n",
       "<TR><TD v=\"99.28380285780318\" t=\"float64\">99.2838</TD></TR>\n",
       "<TR><TD v=\"100.32136400393304\" t=\"float64\">100.3214</TD></TR>\n",
       "<TR><TD v=\"99.83665865768133\" t=\"float64\">99.8367</TD></TR>\n",
       "</TBODY>\n",
       "<TFOOT/>\n",
       "</TABLE>\n"
      ],
      "text/plain": [
       "<IPython.core.display.HTML object>"
      ]
     },
     "metadata": {},
     "output_type": "display_data"
    }
   ],
   "source": [
    "\"\"\"\n",
    "Here we introduce a nifty tool for displaying tables that's part of the ctools package.\n",
    "We will re-run the experiment\n",
    "\n",
    "TODO: redo this with pandas\n",
    "\"\"\"\n",
    "from ctools.tydoc import jupyter_display_table\n",
    "private_data = [100] * 10\n",
    "public_data  = dp_laplace(private_x = private_data, sensitivity=1.0, epsilon=2.0)\n",
    "jupyter_display_table({'epsilon 2.0':public_data}, float_format='{:.4f}')"
   ]
  },
  {
   "cell_type": "code",
   "execution_count": 6,
   "metadata": {},
   "outputs": [
    {
     "data": {
      "text/plain": [
       "'Average of the 10 epsilon 2.0 runs: 100.07796734339607'"
      ]
     },
     "metadata": {},
     "output_type": "display_data"
    },
    {
     "data": {
      "text/plain": [
       "'Private query with a single epsilon 20.0 run: 99.93285145707846'"
      ]
     },
     "metadata": {},
     "output_type": "display_data"
    }
   ],
   "source": [
    "\"\"\"Averaging the 10 draws above with an epsilon of 2.0 is the same a doing a single\n",
    "draw with an epsilon of 20. Let's compare those two possibilities; they look \n",
    "pretty simlar (and pretty accurate)\"\"\"\n",
    "import statistics\n",
    "\n",
    "display(\"Average of the {} epsilon 2.0 runs: {}\".\n",
    "        format(len(public_data), statistics.mean(public_data)))\n",
    "display(\"Private query with a single epsilon 20.0 run: {}\".format(dp_laplace(private_x = 100.0, sensitivity=1.0, epsilon=20.0)))"
   ]
  },
  {
   "cell_type": "code",
   "execution_count": 7,
   "metadata": {},
   "outputs": [
    {
     "data": {
      "text/html": [
       "<TABLE TEXT_FORMAT=\"{}\" FLOAT_FORMAT=\"{:.5f}\" INTEGER_FORMAT=\"{:,}\">\n",
       "<CAPTION/>\n",
       "<THEAD>\n",
       "<TR><TH v=\"Trial\" t=\"str\">Trial</TH><TH v=\"epsilon 0.01\" t=\"str\">epsilon 0.01</TH><TH v=\"epsilon 0.1\" t=\"str\">epsilon 0.1</TH><TH v=\"epsilon 1.0\" t=\"str\">epsilon 1.0</TH><TH v=\"epsilon 2.0\" t=\"str\">epsilon 2.0</TH></TR>\n",
       "</THEAD>\n",
       "<TBODY>\n",
       "<TR><TD v=\"trial #1\" t=\"str\">trial #1</TD><TD v=\"162.3237135980463\" t=\"float64\">162.32371</TD><TD v=\"52.24146963370935\" t=\"float64\">52.24147</TD><TD v=\"100.45222726155187\" t=\"float64\">100.45223</TD><TD v=\"100.37677164456098\" t=\"float64\">100.37677</TD></TR>\n",
       "<TR><TD v=\"trial #2\" t=\"str\">trial #2</TD><TD v=\"-71.06996386115776\" t=\"float64\">-71.06996</TD><TD v=\"126.70577457175668\" t=\"float64\">126.70577</TD><TD v=\"99.54508591261303\" t=\"float64\">99.54509</TD><TD v=\"99.65678062532758\" t=\"float64\">99.65678</TD></TR>\n",
       "<TR><TD v=\"trial #3\" t=\"str\">trial #3</TD><TD v=\"98.307863629352\" t=\"float64\">98.30786</TD><TD v=\"105.64513208430216\" t=\"float64\">105.64513</TD><TD v=\"99.91780552928435\" t=\"float64\">99.91781</TD><TD v=\"99.59219257936562\" t=\"float64\">99.59219</TD></TR>\n",
       "<TR><TD v=\"trial #4\" t=\"str\">trial #4</TD><TD v=\"50.34816348350612\" t=\"float64\">50.34816</TD><TD v=\"104.04263469038885\" t=\"float64\">104.04263</TD><TD v=\"100.20412509145191\" t=\"float64\">100.20413</TD><TD v=\"100.02424404256872\" t=\"float64\">100.02424</TD></TR>\n",
       "<TR><TD v=\"trial #5\" t=\"str\">trial #5</TD><TD v=\"104.2365179357813\" t=\"float64\">104.23652</TD><TD v=\"103.62971185844297\" t=\"float64\">103.62971</TD><TD v=\"100.88854511922358\" t=\"float64\">100.88855</TD><TD v=\"99.3396817389403\" t=\"float64\">99.33968</TD></TR>\n",
       "<TR><TD v=\"trial #6\" t=\"str\">trial #6</TD><TD v=\"157.81132938076576\" t=\"float64\">157.81133</TD><TD v=\"90.76928914038143\" t=\"float64\">90.76929</TD><TD v=\"99.48143959372396\" t=\"float64\">99.48144</TD><TD v=\"99.19591513079025\" t=\"float64\">99.19592</TD></TR>\n",
       "<TR><TD v=\"trial #7\" t=\"str\">trial #7</TD><TD v=\"260.4595290596992\" t=\"float64\">260.45953</TD><TD v=\"113.55517393475138\" t=\"float64\">113.55517</TD><TD v=\"99.79914043966056\" t=\"float64\">99.79914</TD><TD v=\"100.97378522126603\" t=\"float64\">100.97379</TD></TR>\n",
       "<TR><TD v=\"trial #8\" t=\"str\">trial #8</TD><TD v=\"33.38402147206794\" t=\"float64\">33.38402</TD><TD v=\"98.06751966928906\" t=\"float64\">98.06752</TD><TD v=\"100.16098789267701\" t=\"float64\">100.16099</TD><TD v=\"99.86632253447816\" t=\"float64\">99.86632</TD></TR>\n",
       "<TR><TD v=\"trial #9\" t=\"str\">trial #9</TD><TD v=\"-18.079435727856705\" t=\"float64\">-18.07944</TD><TD v=\"92.67600638560346\" t=\"float64\">92.67601</TD><TD v=\"100.78995718057989\" t=\"float64\">100.78996</TD><TD v=\"101.50299551215655\" t=\"float64\">101.50300</TD></TR>\n",
       "<TR><TD v=\"trial #10\" t=\"str\">trial #10</TD><TD v=\"123.01358949039592\" t=\"float64\">123.01359</TD><TD v=\"107.32679086834298\" t=\"float64\">107.32679</TD><TD v=\"99.72126125939756\" t=\"float64\">99.72126</TD><TD v=\"99.73755726386362\" t=\"float64\">99.73756</TD></TR>\n",
       "</TBODY>\n",
       "<TFOOT/>\n",
       "</TABLE>\n"
      ],
      "text/plain": [
       "<IPython.core.display.HTML object>"
      ]
     },
     "metadata": {},
     "output_type": "display_data"
    }
   ],
   "source": [
    "\"\"\"Here we observe the impact of epsilon by comparing the noise added to a count of 100\n",
    "for epsilon values of 0.01, 0.1, 1.0, and 2.0.\"\"\"\n",
    "\n",
    "def run_experiment(epsilon):\n",
    "    private_data = [100] * 10\n",
    "    return {f\"epsilon {epsilon}\": \n",
    "            dp_laplace(private_x = private_data, sensitivity=1.0, epsilon=epsilon)}\n",
    "\n",
    "trials = {\"Trial\":[f\"trial #{i}\" for i in range(1,11)]}\n",
    "\n",
    "jupyter_display_table( {**trials, \n",
    "                        **run_experiment(0.01),\n",
    "                        **run_experiment(0.1), \n",
    "                        **run_experiment(1.0), \n",
    "                        **run_experiment(2.0)} )"
   ]
  },
  {
   "cell_type": "code",
   "execution_count": 8,
   "metadata": {},
   "outputs": [
    {
     "data": {
      "text/html": [
       "<TABLE TEXT_FORMAT=\"{}\" FLOAT_FORMAT=\"{:.5f}\" INTEGER_FORMAT=\"{:,}\">\n",
       "<CAPTION/>\n",
       "<THEAD>\n",
       "<TR><TH v=\"Age\" t=\"str\">Age</TH><TH v=\"True Counts\" t=\"str\">True Counts</TH><TH v=\"Protected Counts\" t=\"str\">Protected Counts</TH></TR>\n",
       "</THEAD>\n",
       "<TBODY>\n",
       "<TR><TD v=\"Under 5 years\" t=\"str\">Under 5 years</TD><TD v=\"32613\" t=\"int\">32,613</TD><TD v=\"32963\" t=\"int\">32,963</TD></TR>\n",
       "<TR><TD v=\"5 to 9 years\" t=\"str\">5 to 9 years</TD><TD v=\"26147\" t=\"int\">26,147</TD><TD v=\"25978\" t=\"int\">25,978</TD></TR>\n",
       "<TR><TD v=\"10 to 14 years\" t=\"str\">10 to 14 years</TD><TD v=\"25041\" t=\"int\">25,041</TD><TD v=\"24973\" t=\"int\">24,973</TD></TR>\n",
       "<TR><TD v=\"15 to 19 years\" t=\"str\">15 to 19 years</TD><TD v=\"39919\" t=\"int\">39,919</TD><TD v=\"40075\" t=\"int\">40,075</TD></TR>\n",
       "<TR><TD v=\"20 to 24 years\" t=\"str\">20 to 24 years</TD><TD v=\"64110\" t=\"int\">64,110</TD><TD v=\"64036\" t=\"int\">64,036</TD></TR>\n",
       "<TR><TD v=\"25 to 29 years\" t=\"str\">25 to 29 years</TD><TD v=\"69649\" t=\"int\">69,649</TD><TD v=\"69453\" t=\"int\">69,453</TD></TR>\n",
       "<TR><TD v=\"30 to 34 years\" t=\"str\">30 to 34 years</TD><TD v=\"55096\" t=\"int\">55,096</TD><TD v=\"55117\" t=\"int\">55,117</TD></TR>\n",
       "<TR><TD v=\"35 to 39 years\" t=\"str\">35 to 39 years</TD><TD v=\"42925\" t=\"int\">42,925</TD><TD v=\"43001\" t=\"int\">43,001</TD></TR>\n",
       "<TR><TD v=\"40 to 44 years\" t=\"str\">40 to 44 years</TD><TD v=\"37734\" t=\"int\">37,734</TD><TD v=\"37505\" t=\"int\">37,505</TD></TR>\n",
       "<TR><TD v=\"45 to 49 years\" t=\"str\">45 to 49 years</TD><TD v=\"38539\" t=\"int\">38,539</TD><TD v=\"38520\" t=\"int\">38,520</TD></TR>\n",
       "<TR><TD v=\"50 to 54 years\" t=\"str\">50 to 54 years</TD><TD v=\"37164\" t=\"int\">37,164</TD><TD v=\"37443\" t=\"int\">37,443</TD></TR>\n",
       "<TR><TD v=\"55 to 59 years\" t=\"str\">55 to 59 years</TD><TD v=\"34274\" t=\"int\">34,274</TD><TD v=\"34305\" t=\"int\">34,305</TD></TR>\n",
       "<TR><TD v=\"60 to 64 years\" t=\"str\">60 to 64 years</TD><TD v=\"29703\" t=\"int\">29,703</TD><TD v=\"29990\" t=\"int\">29,990</TD></TR>\n",
       "<TR><TD v=\"65 to 69 years\" t=\"str\">65 to 69 years</TD><TD v=\"21488\" t=\"int\">21,488</TD><TD v=\"21426\" t=\"int\">21,426</TD></TR>\n",
       "<TR><TD v=\"70 to 74 years\" t=\"str\">70 to 74 years</TD><TD v=\"15481\" t=\"int\">15,481</TD><TD v=\"15254\" t=\"int\">15,254</TD></TR>\n",
       "<TR><TD v=\"75 to 79 years\" t=\"str\">75 to 79 years</TD><TD v=\"11820\" t=\"int\">11,820</TD><TD v=\"11731\" t=\"int\">11,731</TD></TR>\n",
       "<TR><TD v=\"80 to 84 years\" t=\"str\">80 to 84 years</TD><TD v=\"9705\" t=\"int\">9,705</TD><TD v=\"9694\" t=\"int\">9,694</TD></TR>\n",
       "<TR><TD v=\"85 to 89 years\" t=\"str\">85 to 89 years</TD><TD v=\"6496\" t=\"int\">6,496</TD><TD v=\"6395\" t=\"int\">6,395</TD></TR>\n",
       "<TR><TD v=\"90 years and over\" t=\"str\">90 years and over</TD><TD v=\"3819\" t=\"int\">3,819</TD><TD v=\"3536\" t=\"int\">3,536</TD></TR>\n",
       "</TBODY>\n",
       "<TFOOT/>\n",
       "</TABLE>\n"
      ],
      "text/plain": [
       "<IPython.core.display.HTML object>"
      ]
     },
     "metadata": {},
     "output_type": "display_data"
    }
   ],
   "source": [
    "\"\"\"\n",
    "Instead of protecting 10 independent trial, the approach that we take above\n",
    "could use used to protect 10 independent measurements of a single population.\n",
    "Let's protect the population numbers for the District of Columbia from the 2010 Census.\n",
    "\n",
    "Here we round the counts. That's post-processing, so it's totally okay to do.\n",
    "\n",
    "We'll be using an epsilon of 0.01 so that we can see some differences.\n",
    "\"\"\"\n",
    "\n",
    "categories = [\"Under 5 years\"] + [f\"{age} to {age+4} years\" for age in range(5,90,5)]+ [\"90 years and over\"]\n",
    "true_counts = [32613, 26147, 25041, 39919, 64110, 69649, 55096, 42925, 37734, \n",
    "                38539, 37164, 34274, 29703, 21488, 15481, 11820, 9705, 6496, 3819]\n",
    "protected_counts = [int(x) for x in \n",
    "                        dp_laplace(private_x = true_counts, sensitivity=1.0, epsilon=0.01 )]\n",
    "jupyter_display_table( {\"Age\":categories, \n",
    "                        \"True Counts\":true_counts, \n",
    "                        \"Protected Counts\":protected_counts} )\n"
   ]
  },
  {
   "cell_type": "code",
   "execution_count": 9,
   "metadata": {},
   "outputs": [
    {
     "data": {
      "text/html": [
       "<TABLE TEXT_FORMAT=\"{}\" FLOAT_FORMAT=\"{:.5f}\" INTEGER_FORMAT=\"{:,}\">\n",
       "<CAPTION/>\n",
       "<THEAD>\n",
       "<TR><TH v=\"Age\" t=\"str\">Age</TH><TH v=\"True Counts\" t=\"str\">True Counts</TH><TH v=\"Protected Counts\" t=\"str\">Protected Counts</TH><TH v=\"Difference\" t=\"str\">Difference</TH></TR>\n",
       "</THEAD>\n",
       "<TBODY>\n",
       "<TR><TD v=\"Under 5 years\" t=\"str\">Under 5 years</TD><TD v=\"32613\" t=\"int\">32,613</TD><TD v=\"32963\" t=\"int\">32,963</TD><TD v=\"350\" t=\"int\">350</TD></TR>\n",
       "<TR><TD v=\"5 to 9 years\" t=\"str\">5 to 9 years</TD><TD v=\"26147\" t=\"int\">26,147</TD><TD v=\"25978\" t=\"int\">25,978</TD><TD v=\"-169\" t=\"int\">-169</TD></TR>\n",
       "<TR><TD v=\"10 to 14 years\" t=\"str\">10 to 14 years</TD><TD v=\"25041\" t=\"int\">25,041</TD><TD v=\"24973\" t=\"int\">24,973</TD><TD v=\"-68\" t=\"int\">-68</TD></TR>\n",
       "<TR><TD v=\"15 to 19 years\" t=\"str\">15 to 19 years</TD><TD v=\"39919\" t=\"int\">39,919</TD><TD v=\"40075\" t=\"int\">40,075</TD><TD v=\"156\" t=\"int\">156</TD></TR>\n",
       "<TR><TD v=\"20 to 24 years\" t=\"str\">20 to 24 years</TD><TD v=\"64110\" t=\"int\">64,110</TD><TD v=\"64036\" t=\"int\">64,036</TD><TD v=\"-74\" t=\"int\">-74</TD></TR>\n",
       "<TR><TD v=\"25 to 29 years\" t=\"str\">25 to 29 years</TD><TD v=\"69649\" t=\"int\">69,649</TD><TD v=\"69453\" t=\"int\">69,453</TD><TD v=\"-196\" t=\"int\">-196</TD></TR>\n",
       "<TR><TD v=\"30 to 34 years\" t=\"str\">30 to 34 years</TD><TD v=\"55096\" t=\"int\">55,096</TD><TD v=\"55117\" t=\"int\">55,117</TD><TD v=\"21\" t=\"int\">21</TD></TR>\n",
       "<TR><TD v=\"35 to 39 years\" t=\"str\">35 to 39 years</TD><TD v=\"42925\" t=\"int\">42,925</TD><TD v=\"43001\" t=\"int\">43,001</TD><TD v=\"76\" t=\"int\">76</TD></TR>\n",
       "<TR><TD v=\"40 to 44 years\" t=\"str\">40 to 44 years</TD><TD v=\"37734\" t=\"int\">37,734</TD><TD v=\"37505\" t=\"int\">37,505</TD><TD v=\"-229\" t=\"int\">-229</TD></TR>\n",
       "<TR><TD v=\"45 to 49 years\" t=\"str\">45 to 49 years</TD><TD v=\"38539\" t=\"int\">38,539</TD><TD v=\"38520\" t=\"int\">38,520</TD><TD v=\"-19\" t=\"int\">-19</TD></TR>\n",
       "<TR><TD v=\"50 to 54 years\" t=\"str\">50 to 54 years</TD><TD v=\"37164\" t=\"int\">37,164</TD><TD v=\"37443\" t=\"int\">37,443</TD><TD v=\"279\" t=\"int\">279</TD></TR>\n",
       "<TR><TD v=\"55 to 59 years\" t=\"str\">55 to 59 years</TD><TD v=\"34274\" t=\"int\">34,274</TD><TD v=\"34305\" t=\"int\">34,305</TD><TD v=\"31\" t=\"int\">31</TD></TR>\n",
       "<TR><TD v=\"60 to 64 years\" t=\"str\">60 to 64 years</TD><TD v=\"29703\" t=\"int\">29,703</TD><TD v=\"29990\" t=\"int\">29,990</TD><TD v=\"287\" t=\"int\">287</TD></TR>\n",
       "<TR><TD v=\"65 to 69 years\" t=\"str\">65 to 69 years</TD><TD v=\"21488\" t=\"int\">21,488</TD><TD v=\"21426\" t=\"int\">21,426</TD><TD v=\"-62\" t=\"int\">-62</TD></TR>\n",
       "<TR><TD v=\"70 to 74 years\" t=\"str\">70 to 74 years</TD><TD v=\"15481\" t=\"int\">15,481</TD><TD v=\"15254\" t=\"int\">15,254</TD><TD v=\"-227\" t=\"int\">-227</TD></TR>\n",
       "<TR><TD v=\"75 to 79 years\" t=\"str\">75 to 79 years</TD><TD v=\"11820\" t=\"int\">11,820</TD><TD v=\"11731\" t=\"int\">11,731</TD><TD v=\"-89\" t=\"int\">-89</TD></TR>\n",
       "<TR><TD v=\"80 to 84 years\" t=\"str\">80 to 84 years</TD><TD v=\"9705\" t=\"int\">9,705</TD><TD v=\"9694\" t=\"int\">9,694</TD><TD v=\"-11\" t=\"int\">-11</TD></TR>\n",
       "<TR><TD v=\"85 to 89 years\" t=\"str\">85 to 89 years</TD><TD v=\"6496\" t=\"int\">6,496</TD><TD v=\"6395\" t=\"int\">6,395</TD><TD v=\"-101\" t=\"int\">-101</TD></TR>\n",
       "<TR><TD v=\"90 years and over\" t=\"str\">90 years and over</TD><TD v=\"3819\" t=\"int\">3,819</TD><TD v=\"3536\" t=\"int\">3,536</TD><TD v=\"-283\" t=\"int\">-283</TD></TR>\n",
       "<TR><TD v=\"total\" t=\"str\">total</TD><TD v=\"601723\" t=\"int\">601,723</TD><TD v=\"601395\" t=\"int\">601,395</TD><TD v=\"-328\" t=\"int\">-328</TD></TR>\n",
       "</TBODY>\n",
       "<TFOOT/>\n",
       "</TABLE>\n"
      ],
      "text/plain": [
       "<IPython.core.display.HTML object>"
      ]
     },
     "metadata": {},
     "output_type": "display_data"
    }
   ],
   "source": [
    "\"\"\"By comparing the differences between the counts above and the true counts,\n",
    "we can see the overall impact of differential privacy for epsilon=0.01.\n",
    "NOTE --- comparing the protected counts to the true counts is something you cannot\n",
    "typically do in differential privacy, because that's making a comparision across the noise barrier.\n",
    "But it's useful for learning DP and understanding how mechanisms work.\n",
    "\"\"\"\n",
    "diff_counts = [p-t for (p,t) in zip(protected_counts,true_counts)]\n",
    "jupyter_display_table( {\"Age\":categories + ['total'], \n",
    "                        \"True Counts\":true_counts + [sum(true_counts)], \n",
    "                        \"Protected Counts\":protected_counts + [sum(protected_counts)],\n",
    "                        \"Difference\":diff_counts + [sum(diff_counts)]\n",
    "                       } )\n",
    "\n"
   ]
  },
  {
   "cell_type": "code",
   "execution_count": null,
   "metadata": {},
   "outputs": [],
   "source": []
  }
 ],
 "metadata": {
  "kernelspec": {
   "display_name": "Python 3",
   "language": "python",
   "name": "python3"
  },
  "language_info": {
   "codemirror_mode": {
    "name": "ipython",
    "version": 3
   },
   "file_extension": ".py",
   "mimetype": "text/x-python",
   "name": "python",
   "nbconvert_exporter": "python",
   "pygments_lexer": "ipython3",
   "version": "3.7.4"
  }
 },
 "nbformat": 4,
 "nbformat_minor": 2
}
