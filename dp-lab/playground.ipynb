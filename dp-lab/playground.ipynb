{
 "cells": [
  {
   "cell_type": "code",
   "execution_count": 1,
   "metadata": {},
   "outputs": [
    {
     "data": {
      "text/plain": [
       "'\\nIn order to use this playground, you will need to do the following from the command line (prompt shown as $)\\n$ conda install nodejs\\n$ jupyter labextension install @jupyter-widgets/jupyterlab-manager\\n\\nHere are some fun references:\\nhttps://stackoverflow.com/questions/49542417/how-to-get-ipywidgets-working-in-jupyter-lab\\n'"
      ]
     },
     "execution_count": 1,
     "metadata": {},
     "output_type": "execute_result"
    }
   ],
   "source": [
    "\"\"\"\n",
    "In order to use this playground, you will need to do the following from the command line (prompt shown as $)\n",
    "$ conda install nodejs\n",
    "$ jupyter labextension install @jupyter-widgets/jupyterlab-manager\n",
    "\n",
    "Note: You may need to exit Anaconda-Navigator and re-launch it after executing the above.\n",
    "\n",
    "Here are some fun references:\n",
    "https://stackoverflow.com/questions/49542417/how-to-get-ipywidgets-working-in-jupyter-lab\n",
    "\"\"\"\n"
   ]
  },
  {
   "cell_type": "code",
   "execution_count": 2,
   "metadata": {},
   "outputs": [
    {
     "data": {
      "application/vnd.jupyter.widget-view+json": {
       "model_id": "7888166f41e84fb2829d27c12268b415",
       "version_major": 2,
       "version_minor": 0
      },
      "text/plain": [
       "interactive(children=(IntSlider(value=10, description='x', max=30, min=-10), Output()), _dom_classes=('widget-…"
      ]
     },
     "metadata": {},
     "output_type": "display_data"
    },
    {
     "data": {
      "text/plain": [
       "<function __main__.f(x)>"
      ]
     },
     "execution_count": 2,
     "metadata": {},
     "output_type": "execute_result"
    }
   ],
   "source": [
    "import ipywidgets as wideget\n",
    "from ipywidgets import interact\n",
    "\n",
    "def f(x):\n",
    "    return x\n",
    "\n",
    "interact(f, x=10)"
   ]
  },
  {
   "cell_type": "code",
   "execution_count": 3,
   "metadata": {},
   "outputs": [
    {
     "name": "stdout",
     "output_type": "stream",
     "text": [
      "Help on _InteractFactory in module ipywidgets.widgets.interaction object:\n",
      "\n",
      "class _InteractFactory(builtins.object)\n",
      " |  _InteractFactory(cls, options, kwargs={})\n",
      " |  \n",
      " |  Factory for instances of :class:`interactive`.\n",
      " |  \n",
      " |  This class is needed to support options like::\n",
      " |  \n",
      " |      >>> @interact.options(manual=True)\n",
      " |      ... def greeting(text=\"World\"):\n",
      " |      ...     print(\"Hello {}\".format(text))\n",
      " |  \n",
      " |  Parameters\n",
      " |  ----------\n",
      " |  cls : class\n",
      " |      The subclass of :class:`interactive` to construct.\n",
      " |  options : dict\n",
      " |      A dict of options used to construct the interactive\n",
      " |      function. By default, this is returned by\n",
      " |      ``cls.default_options()``.\n",
      " |  kwargs : dict\n",
      " |      A dict of **kwargs to use for widgets.\n",
      " |  \n",
      " |  Methods defined here:\n",
      " |  \n",
      " |  __call__(self, _InteractFactory__interact_f=None, **kwargs)\n",
      " |      Make the given function interactive by adding and displaying\n",
      " |      the corresponding :class:`interactive` widget.\n",
      " |      \n",
      " |      Expects the first argument to be a function. Parameters to this\n",
      " |      function are widget abbreviations passed in as keyword arguments\n",
      " |      (``**kwargs``). Can be used as a decorator (see examples).\n",
      " |      \n",
      " |      Returns\n",
      " |      -------\n",
      " |      f : __interact_f with interactive widget attached to it.\n",
      " |      \n",
      " |      Parameters\n",
      " |      ----------\n",
      " |      __interact_f : function\n",
      " |          The function to which the interactive widgets are tied. The `**kwargs`\n",
      " |          should match the function signature. Passed to :func:`interactive()`\n",
      " |      **kwargs : various, optional\n",
      " |          An interactive widget is created for each keyword argument that is a\n",
      " |          valid widget abbreviation. Passed to :func:`interactive()`\n",
      " |      \n",
      " |      Examples\n",
      " |      --------\n",
      " |      Render an interactive text field that shows the greeting with the passed in\n",
      " |      text::\n",
      " |      \n",
      " |          # 1. Using interact as a function\n",
      " |          def greeting(text=\"World\"):\n",
      " |              print(\"Hello {}\".format(text))\n",
      " |          interact(greeting, text=\"IPython Widgets\")\n",
      " |      \n",
      " |          # 2. Using interact as a decorator\n",
      " |          @interact\n",
      " |          def greeting(text=\"World\"):\n",
      " |              print(\"Hello {}\".format(text))\n",
      " |      \n",
      " |          # 3. Using interact as a decorator with named parameters\n",
      " |          @interact(text=\"IPython Widgets\")\n",
      " |          def greeting(text=\"World\"):\n",
      " |              print(\"Hello {}\".format(text))\n",
      " |      \n",
      " |      Render an interactive slider widget and prints square of number::\n",
      " |      \n",
      " |          # 1. Using interact as a function\n",
      " |          def square(num=1):\n",
      " |              print(\"{} squared is {}\".format(num, num*num))\n",
      " |          interact(square, num=5)\n",
      " |      \n",
      " |          # 2. Using interact as a decorator\n",
      " |          @interact\n",
      " |          def square(num=2):\n",
      " |              print(\"{} squared is {}\".format(num, num*num))\n",
      " |      \n",
      " |          # 3. Using interact as a decorator with named parameters\n",
      " |          @interact(num=5)\n",
      " |          def square(num=2):\n",
      " |              print(\"{} squared is {}\".format(num, num*num))\n",
      " |  \n",
      " |  __init__(self, cls, options, kwargs={})\n",
      " |      Initialize self.  See help(type(self)) for accurate signature.\n",
      " |  \n",
      " |  options(self, **kwds)\n",
      " |      Change options for interactive functions.\n",
      " |      \n",
      " |      Returns\n",
      " |      -------\n",
      " |      A new :class:`_InteractFactory` which will apply the\n",
      " |      options when called.\n",
      " |  \n",
      " |  widget(self, f)\n",
      " |      Return an interactive function widget for the given function.\n",
      " |      \n",
      " |      The widget is only constructed, not displayed nor attached to\n",
      " |      the function.\n",
      " |      \n",
      " |      Returns\n",
      " |      -------\n",
      " |      An instance of ``self.cls`` (typically :class:`interactive`).\n",
      " |      \n",
      " |      Parameters\n",
      " |      ----------\n",
      " |      f : function\n",
      " |          The function to which the interactive widgets are tied.\n",
      " |  \n",
      " |  ----------------------------------------------------------------------\n",
      " |  Data descriptors defined here:\n",
      " |  \n",
      " |  __dict__\n",
      " |      dictionary for instance variables (if defined)\n",
      " |  \n",
      " |  __weakref__\n",
      " |      list of weak references to the object (if defined)\n",
      "\n"
     ]
    }
   ],
   "source": [
    "help(interact)"
   ]
  },
  {
   "cell_type": "code",
   "execution_count": null,
   "metadata": {},
   "outputs": [],
   "source": []
  },
  {
   "cell_type": "code",
   "execution_count": null,
   "metadata": {},
   "outputs": [],
   "source": []
  }
 ],
 "metadata": {
  "kernelspec": {
   "display_name": "Python 3",
   "language": "python",
   "name": "python3"
  },
  "language_info": {
   "codemirror_mode": {
    "name": "ipython",
    "version": 3
   },
   "file_extension": ".py",
   "mimetype": "text/x-python",
   "name": "python",
   "nbconvert_exporter": "python",
   "pygments_lexer": "ipython3",
   "version": "3.7.3"
  }
 },
 "nbformat": 4,
 "nbformat_minor": 2
}
