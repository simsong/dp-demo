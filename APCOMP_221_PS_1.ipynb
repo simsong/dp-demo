{
  "nbformat": 4,
  "nbformat_minor": 0,
  "metadata": {
    "colab": {
      "provenance": [],
      "include_colab_link": true
    },
    "kernelspec": {
      "name": "python3",
      "display_name": "Python 3"
    },
    "language_info": {
      "name": "python"
    }
  },
  "cells": [
    {
      "cell_type": "markdown",
      "metadata": {
        "id": "view-in-github",
        "colab_type": "text"
      },
      "source": [
        "<a href=\"https://colab.research.google.com/github/simsong/dp-demo/blob/main/APCOMP_221_PS_1.ipynb\" target=\"_parent\"><img src=\"https://colab.research.google.com/assets/colab-badge.svg\" alt=\"Open In Colab\"/></a>"
      ]
    },
    {
      "cell_type": "markdown",
      "source": [
        "## [Student #1] and [Student #2]\n",
        "\n",
        "## APCOMP 221 Problem Set #1\n",
        "\n"
      ],
      "metadata": {
        "id": "Vmzfi_lShEAS"
      }
    },
    {
      "cell_type": "markdown",
      "source": [
        "# Step 2"
      ],
      "metadata": {
        "id": "4wXRLMGswASy"
      }
    },
    {
      "cell_type": "markdown",
      "source": [
        "Latanya Sweeney estimated that 87% of the US population has a uniquely identifying combination of the three attributes (date_of_birth,  gender, zip_code). Although this number is widely repeated, it is an estimate, and one that must certainly change over time. One approach to computing this estimate is to assume that all of these features are uniformly distributed. Of course, they aren't. Using legal means, find data on the actual distribution of date_of_birth, gender, and zip_code in the U.S. Document your sources in your notebook.\n"
      ],
      "metadata": {
        "id": "A_WMpeQjhXwl"
      }
    },
    {
      "cell_type": "markdown",
      "source": [
        "*Your answer*"
      ],
      "metadata": {
        "id": "8h8MUBnBv7DT"
      }
    },
    {
      "cell_type": "markdown",
      "source": [
        "# Step 3"
      ],
      "metadata": {
        "id": "Ui6FGI5zwEnE"
      }
    },
    {
      "cell_type": "code",
      "source": [
        "import pandas as pd\n",
        "import numpy as np\n",
        "import io\n"
      ],
      "metadata": {
        "id": "DooqHiwuiAU8"
      },
      "execution_count": null,
      "outputs": []
    },
    {
      "cell_type": "code",
      "source": [
        "# For each feature name, indicate if it is:\n",
        "# Direct - a direct identifier\n",
        "# Quasi-identifier - a quasi identifier\n",
        "# Continuous - a continious variable\n",
        "# Categorical - a categorical variable\n",
        "#\n",
        "data=\"\"\"Feature name,Direct,Indirect,Continuous,Categorical\n",
        "0,course_id,False,False,False,False\n",
        "1,user_id,False,False,False,False\n",
        "2,username,False,False,False,False\n",
        "3,registered,False,False,False,False\n",
        "4,viewed,False,False,False,False\n",
        "5,explored,False,False,False,False\n",
        "6,certified,False,False,False,False\n",
        "7,completed,False,False,False,False\n",
        "8,ip,False,False,False,False\n",
        "9,cc_by_ip,False,False,False,False\n",
        "10,countryLabel,False,False,False,False\n",
        "11,continent,False,False,False,False\n",
        "12,city,False,False,False,False\n",
        "13,region,False,False,False,False\n",
        "14,subdivision,False,False,False,False\n",
        "15,postalCode,False,False,False,False\n",
        "16,un_major_region,False,False,False,False\n",
        "17,un_economic_group,False,False,False,False\n",
        "18,un_developing_nation,False,False,False,False\n",
        "19,un_special_region,False,False,False,False\n",
        "20,latitude,False,False,False,False\n",
        "21,longitude,False,False,False,False\n",
        "22,LoE,False,False,False,False\n",
        "23,YoB,False,False,False,False\n",
        "24,gender,False,False,False,False\n",
        "25,grade,False,False,False,False\n",
        "26,passing_grade,False,False,False,False\n",
        "27,start_time,False,False,False,False\n",
        "28,first_event,False,False,False,False\n",
        "29,last_event,False,False,False,False\n",
        "30,nevents,False,False,False,False\n",
        "31,ndays_act,False,False,False,False\n",
        "32,nplay_video,False,False,False,False\n",
        "33,nchapters,False,False,False,False\n",
        "34,nforum_posts,False,False,False,False\n",
        "35,nforum_votes,False,False,False,False\n",
        "36,nforum_endorsed,False,False,False,False\n",
        "37,nforum_threads,False,False,False,False\n",
        "38,nforum_comments,False,False,False,False\n",
        "39,nforum_pinned,False,False,False,False\n",
        "40,roles,False,False,False,False\n",
        "41,nprogcheck,False,False,False,False\n",
        "42,nproblem_check,False,False,False,False\n",
        "43,nforum_events,False,False,False,False\n",
        "44,mode,False,False,False,False\n",
        "45,is_active,False,False,False,False\n",
        "46,cert_created_date,False,False,False,False\n",
        "47,cert_modified_date,False,False,False,False\n",
        "48,cert_status,False,False,False,False\n",
        "49,verified_enroll_time,False,False,False,False\n",
        "50,verified_unenroll_time,False,False,False,False\n",
        "51,profile_country,False,False,False,False\n",
        "52,y1_anomalous,False,False,False,False\n",
        "53,email_domain,False,False,False,False\n",
        "54,language_brwsr,False,False,False,False\n",
        "55,language_brwsr_country,False,False,False,False\n",
        "56,language_brwsr_sec,False,False,False,False\n",
        "57,language_brwsr_sec_country,False,False,False,False\n",
        "58,language_brwsr_code,False,False,False,False\n",
        "59,language_brwsr_subcode,False,False,False,False\n",
        "60,language_brwsr_sec_code,False,False,False,False\n",
        "61,language_brwsr_sec_subcode,False,False,False,False\n",
        "62,language_brwsr_nevents,False,False,False,False\n",
        "63,language_brwsr_ndiff,False,False,False,False\n",
        "64,language,False,False,False,False\n",
        "65,language_download,False,False,False,False\n",
        "66,language_nevents,False,False,False,False\n",
        "67,language_ndiff,False,False,False,False\n",
        "68,ntranscript,False,False,False,False\n",
        "69,nshow_answer,False,False,False,False\n",
        "70,nvideo,False,False,False,False\n",
        "71,nvideos_unique_viewed,False,False,False,False\n",
        "72,nvideos_total_watched,False,False,False,False\n",
        "73,nseq_goto,False,False,False,False\n",
        "74,nseek_video,False,False,False,False\n",
        "75,npause_video,False,False,False,False\n",
        "76,avg_dt,False,False,False,False\n",
        "77,sdv_dt,False,False,False,False\n",
        "78,max_dt,False,False,False,False\n",
        "79,n_dt,False,False,False,False\n",
        "80,sum_dt,False,False,False,False\n",
        "81,roles_isBetaTester,False,False,False,False\n",
        "82,roles_isInstructor,False,False,False,False\n",
        "83,roles_isStaff,False,False,False,False\n",
        "84,roles_isCCX,False,False,False,False\n",
        "85,roles_isFinance,False,False,False,False\n",
        "86,roles_isLibrary,False,False,False,False\n",
        "87,roles_isSales,False,False,False,False\n",
        "88,forumRoles_isAdmin,False,False,False,False\n",
        "89,forumRoles_isCommunityTA,False,False,False,False\n",
        "90,forumRoles_isModerator,False,False,False,False\n",
        "91,forumRoles_isStudent,False,False,False,False\"\"\"\n",
        "\n",
        "with io.StringIO(data) as f:\n",
        "  features = pd.read_csv(f)\n",
        "\n",
        "features"
      ],
      "metadata": {
        "id": "sRSw7CtfiWb9"
      },
      "execution_count": null,
      "outputs": []
    },
    {
      "cell_type": "code",
      "source": [
        "# Create a dataframe with the entire APCOMP221Pset1.csv file that is in a Google Drive file\n",
        "# Google Drive URL of the CSV file. Replace with your actual URL.\n",
        "url = 'https://drive.google.com/file/d/1urPOfzU-BaDcQF1ZY6s6hxEhyrV2S0Y1/view?usp=sharing'\n",
        "\n",
        "# libraries for the files in google drive\n",
        "from oauth2client.client import GoogleCredentials\n",
        "from pydrive2.auth import GoogleAuth\n",
        "from pydrive2.drive import GoogleDrive\n",
        "from google.colab import drive\n",
        "from google.colab import auth\n",
        "import os.path\n",
        "\n",
        "# download the file if it does not exist\n",
        "APCOMP221Pset1_DATAFILE='APCOMP221Pset1.csv'\n",
        "if not os.path.exists(APCOMP221Pset1_DATAFILE):\n",
        "  auth.authenticate_user()\n",
        "  gauth = GoogleAuth()\n",
        "  gauth.credentials = GoogleCredentials.get_application_default()\n",
        "  drive = GoogleDrive(gauth)\n",
        "\n",
        "  file_id = url.split(\"/d/\")[1].split(\"/\")[0]\n",
        "\n",
        "  download = drive.CreateFile({'id': file_id})\n",
        "  download.GetContentFile( APCOMP221Pset1_DATAFILE )\n",
        "assert os.path.exists(APCOMP221Pset1_DATAFILE)\n",
        "\n"
      ],
      "metadata": {
        "id": "AgPYXxskngtq"
      },
      "execution_count": null,
      "outputs": []
    },
    {
      "cell_type": "code",
      "source": [
        "# Let's look at the first 5 lines\n",
        "with open(APCOMP221Pset1_DATAFILE) as f:\n",
        "  for (ct,line) in enumerate(f):\n",
        "    print(ct,line)\n",
        "    if ct>5:\n",
        "      break\n",
        "\n"
      ],
      "metadata": {
        "id": "bGaO8vmOtCWC"
      },
      "execution_count": null,
      "outputs": []
    },
    {
      "cell_type": "code",
      "source": [
        "# Create the big dataframe\n",
        "column_names = list(features.iloc[:, 0]) # Get the first column of features as a list\n",
        "df_big = pd.read_csv(APCOMP221Pset1_DATAFILE, names=column_names, header=None)"
      ],
      "metadata": {
        "id": "UqExwu-wtfsZ"
      },
      "execution_count": null,
      "outputs": []
    },
    {
      "cell_type": "code",
      "source": [
        "# Look at the header\n",
        "df_big"
      ],
      "metadata": {
        "id": "x3DYWVkJu2e-"
      },
      "execution_count": null,
      "outputs": []
    }
  ]
}